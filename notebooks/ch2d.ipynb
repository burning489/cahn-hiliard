{
 "cells": [
  {
   "cell_type": "code",
   "execution_count": 6,
   "metadata": {},
   "outputs": [
    {
     "name": "stdout",
     "output_type": "stream",
     "text": [
      "Using matplotlib backend: MacOSX\n"
     ]
    }
   ],
   "source": [
    "from fdch.model.diff_scheme import ch2d12 as model\n",
    "import matplotlib.pyplot as plt\n",
    "import numpy as np\n",
    "%matplotlib auto"
   ]
  },
  {
   "cell_type": "code",
   "execution_count": 4,
   "metadata": {},
   "outputs": [
    {
     "name": "stdout",
     "output_type": "stream",
     "text": [
      "diff scheme 2\n",
      "                    \n"
     ]
    }
   ],
   "source": [
    "phi_list = model()"
   ]
  },
  {
   "cell_type": "markdown",
   "metadata": {},
   "source": [
    "$$\\phi(x,y) = cos(2\\pi x) cos(\\pi y)$$"
   ]
  },
  {
   "cell_type": "code",
   "execution_count": 20,
   "metadata": {},
   "outputs": [],
   "source": [
    "def animate(phi_list):\n",
    "    T = phi_list.shape[0]\n",
    "    for i in range(0, 200, 5):\n",
    "        plt.title('time step {}/{}'.format(i+1, 200))\n",
    "        plt.imshow(phi_list[i].reshape(65,65))\n",
    "        plt.pause(1e-3)\n",
    "    plt.title('time step {}/{}'.format(200, 200))\n",
    "    plt.imshow(phi_list[-1].reshape(65,65))"
   ]
  },
  {
   "cell_type": "code",
   "execution_count": 21,
   "metadata": {},
   "outputs": [],
   "source": [
    "animate(phi_list)"
   ]
  },
  {
   "cell_type": "code",
   "execution_count": null,
   "metadata": {},
   "outputs": [],
   "source": []
  }
 ],
 "metadata": {
  "kernelspec": {
   "display_name": "Python 3",
   "language": "python",
   "name": "python3"
  },
  "language_info": {
   "codemirror_mode": {
    "name": "ipython",
    "version": 3
   },
   "file_extension": ".py",
   "mimetype": "text/x-python",
   "name": "python",
   "nbconvert_exporter": "python",
   "pygments_lexer": "ipython3",
   "version": "3.8.1"
  }
 },
 "nbformat": 4,
 "nbformat_minor": 4
}
